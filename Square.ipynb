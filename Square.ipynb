{
 "cells": [
  {
   "cell_type": "code",
   "execution_count": 7,
   "id": "193bc287",
   "metadata": {},
   "outputs": [],
   "source": [
    "import turtle\n",
    "pen=turtle.Turtle()"
   ]
  },
  {
   "cell_type": "code",
   "execution_count": 8,
   "id": "03b982c6",
   "metadata": {},
   "outputs": [
    {
     "name": "stdout",
     "output_type": "stream",
     "text": [
      "a: \n",
      "5\n",
      "b: \n",
      "50\n"
     ]
    }
   ],
   "source": [
    "a=input(\"a: \\n\")\n",
    "b=input(\"b: \\n\")"
   ]
  },
  {
   "cell_type": "code",
   "execution_count": 9,
   "id": "49fd2ee7",
   "metadata": {},
   "outputs": [],
   "source": [
    "a=int(a)\n",
    "b=int(b)"
   ]
  },
  {
   "cell_type": "code",
   "execution_count": 11,
   "id": "a5d29d3d",
   "metadata": {},
   "outputs": [],
   "source": [
    "for i in range (0, a):\n",
    "    pen.forward(b)\n",
    "    pen.left(90)\n",
    "    pen.forward(b)\n",
    "    pen.left(90)\n",
    "    pen.forward(b)\n",
    "    pen.left(90)\n",
    "    pen.forward(b)\n",
    "    pen.penup()\n",
    "    pen.forward(5)\n",
    "    pen.right(90)\n",
    "    pen.forward(5)\n",
    "    pen.left(180)\n",
    "    pen.pendown()\n",
    "    b=b+10"
   ]
  },
  {
   "cell_type": "code",
   "execution_count": 5,
   "id": "4c76f444",
   "metadata": {},
   "outputs": [],
   "source": [
    "turtle.done()"
   ]
  },
  {
   "cell_type": "code",
   "execution_count": null,
   "id": "42f74d2d",
   "metadata": {},
   "outputs": [],
   "source": []
  }
 ],
 "metadata": {
  "kernelspec": {
   "display_name": "Python 3 (ipykernel)",
   "language": "python",
   "name": "python3"
  },
  "language_info": {
   "codemirror_mode": {
    "name": "ipython",
    "version": 3
   },
   "file_extension": ".py",
   "mimetype": "text/x-python",
   "name": "python",
   "nbconvert_exporter": "python",
   "pygments_lexer": "ipython3",
   "version": "3.9.12"
  }
 },
 "nbformat": 4,
 "nbformat_minor": 5
}
