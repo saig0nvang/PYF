{
 "cells": [
  {
   "cell_type": "code",
   "execution_count": 45,
   "id": "45c187df",
   "metadata": {},
   "outputs": [],
   "source": [
    "import turtle\n",
    "pen=turtle.Turtle()"
   ]
  },
  {
   "cell_type": "code",
   "execution_count": 46,
   "id": "3497d72f",
   "metadata": {},
   "outputs": [
    {
     "name": "stdout",
     "output_type": "stream",
     "text": [
      "a: \n",
      "4\n",
      "b: \n",
      "50\n"
     ]
    }
   ],
   "source": [
    "a=input(\"a: \\n\")\n",
    "b=input(\"b: \\n\")"
   ]
  },
  {
   "cell_type": "code",
   "execution_count": 47,
   "id": "38291926",
   "metadata": {},
   "outputs": [],
   "source": [
    "a=int(a)\n",
    "b=int(b)"
   ]
  },
  {
   "cell_type": "code",
   "execution_count": 48,
   "id": "19b2d6e8",
   "metadata": {},
   "outputs": [],
   "source": [
    "for i in range (0, a):\n",
    "    pen.forward(b)\n",
    "    pen.left(120)\n",
    "    pen.forward(b)\n",
    "    pen.left(120)\n",
    "    pen.forward(b)\n",
    "    pen.left(120)\n",
    "    pen.backward(b*0.1)\n",
    "    b=b+b*0.2"
   ]
  },
  {
   "cell_type": "code",
   "execution_count": 43,
   "id": "ac92ef81",
   "metadata": {},
   "outputs": [],
   "source": [
    "turtle.done()"
   ]
  },
  {
   "cell_type": "code",
   "execution_count": 41,
   "id": "34573314",
   "metadata": {},
   "outputs": [],
   "source": []
  },
  {
   "cell_type": "code",
   "execution_count": 42,
   "id": "1cc67b7a",
   "metadata": {},
   "outputs": [],
   "source": []
  },
  {
   "cell_type": "code",
   "execution_count": null,
   "id": "0841bb7e",
   "metadata": {},
   "outputs": [],
   "source": []
  }
 ],
 "metadata": {
  "kernelspec": {
   "display_name": "Python 3 (ipykernel)",
   "language": "python",
   "name": "python3"
  },
  "language_info": {
   "codemirror_mode": {
    "name": "ipython",
    "version": 3
   },
   "file_extension": ".py",
   "mimetype": "text/x-python",
   "name": "python",
   "nbconvert_exporter": "python",
   "pygments_lexer": "ipython3",
   "version": "3.9.12"
  }
 },
 "nbformat": 4,
 "nbformat_minor": 5
}
