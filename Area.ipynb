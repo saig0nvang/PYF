{
 "cells": [
  {
   "cell_type": "code",
   "execution_count": 6,
   "id": "14b9aae0",
   "metadata": {},
   "outputs": [],
   "source": [
    "import math\n",
    "a=50*100\n",
    "b=10*10*10*10\n",
    "c=(60*30)/2\n",
    "a1=(50+100)*2\n",
    "b1=10*4\n",
    "c1=(60+30+math.sqrt(60*60+30*30))\n",
    "s=a+b+c"
   ]
  },
  {
   "cell_type": "code",
   "execution_count": 7,
   "id": "4619f7e9",
   "metadata": {},
   "outputs": [
    {
     "name": "stdout",
     "output_type": "stream",
     "text": [
      "Dien tich va chu vi hinh chu nhat lan luot la 5000 300\n",
      "Dien tich va chu vi hinh vuong lan luot la 10000 40\n",
      "Dien tich va chu vi hinh tam giac lan luot la 900.0 157.08203932499367\n",
      "Dien tich mah dat la 15900.0\n"
     ]
    }
   ],
   "source": [
    "print(\"Dien tich va chu vi hinh chu nhat lan luot la\",a,a1)\n",
    "print(\"Dien tich va chu vi hinh vuong lan luot la\",b,b1)\n",
    "print(\"Dien tich va chu vi hinh tam giac lan luot la\",c,c1)\n",
    "print(\"Dien tich mah dat la\",s)"
   ]
  },
  {
   "cell_type": "code",
   "execution_count": null,
   "id": "86b7ae32",
   "metadata": {},
   "outputs": [],
   "source": []
  }
 ],
 "metadata": {
  "kernelspec": {
   "display_name": "Python 3 (ipykernel)",
   "language": "python",
   "name": "python3"
  },
  "language_info": {
   "codemirror_mode": {
    "name": "ipython",
    "version": 3
   },
   "file_extension": ".py",
   "mimetype": "text/x-python",
   "name": "python",
   "nbconvert_exporter": "python",
   "pygments_lexer": "ipython3",
   "version": "3.9.12"
  }
 },
 "nbformat": 4,
 "nbformat_minor": 5
}
