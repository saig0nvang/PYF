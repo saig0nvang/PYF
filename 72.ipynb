{
 "cells": [
  {
   "cell_type": "code",
   "execution_count": 27,
   "id": "ebde168d",
   "metadata": {},
   "outputs": [],
   "source": [
    "import turtle\n",
    "pen=turtle.Turtle()"
   ]
  },
  {
   "cell_type": "code",
   "execution_count": 28,
   "id": "698765ec",
   "metadata": {},
   "outputs": [],
   "source": [
    "pen.forward(100)\n",
    "pen.right(72)\n",
    "pen.forward(100)\n",
    "pen.right(72)\n",
    "pen.forward(100)\n",
    "pen.right(72)\n",
    "pen.forward(100)\n",
    "pen.right(72)\n",
    "pen.forward(100)"
   ]
  },
  {
   "cell_type": "code",
   "execution_count": 25,
   "id": "66bf44c1",
   "metadata": {},
   "outputs": [],
   "source": [
    "turtle.done()"
   ]
  },
  {
   "cell_type": "code",
   "execution_count": null,
   "id": "7410c4fe",
   "metadata": {},
   "outputs": [],
   "source": []
  }
 ],
 "metadata": {
  "kernelspec": {
   "display_name": "Python 3 (ipykernel)",
   "language": "python",
   "name": "python3"
  },
  "language_info": {
   "codemirror_mode": {
    "name": "ipython",
    "version": 3
   },
   "file_extension": ".py",
   "mimetype": "text/x-python",
   "name": "python",
   "nbconvert_exporter": "python",
   "pygments_lexer": "ipython3",
   "version": "3.9.12"
  }
 },
 "nbformat": 4,
 "nbformat_minor": 5
}
