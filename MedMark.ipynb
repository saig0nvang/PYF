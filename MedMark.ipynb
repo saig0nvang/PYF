{
 "cells": [
  {
   "cell_type": "code",
   "execution_count": 1,
   "id": "49533de4",
   "metadata": {},
   "outputs": [
    {
     "name": "stdout",
     "output_type": "stream",
     "text": [
      "Toán: \n",
      "8\n",
      "Lý: \n",
      "8\n",
      "Hóa: \n",
      "8\n"
     ]
    }
   ],
   "source": [
    "a=input(\"Toán: \\n\")\n",
    "b=input(\"Lý: \\n\")\n",
    "c=input(\"Hóa: \\n\")\n",
    "a=float(a)\n",
    "b=float(b)\n",
    "c=float(c)"
   ]
  },
  {
   "cell_type": "code",
   "execution_count": 2,
   "id": "90f38942",
   "metadata": {},
   "outputs": [
    {
     "data": {
      "text/plain": [
       "8.0"
      ]
     },
     "execution_count": 2,
     "metadata": {},
     "output_type": "execute_result"
    }
   ],
   "source": [
    "tb=(a+b+c)/3\n",
    "tb"
   ]
  },
  {
   "cell_type": "code",
   "execution_count": 6,
   "id": "3935598d",
   "metadata": {},
   "outputs": [
    {
     "name": "stdout",
     "output_type": "stream",
     "text": [
      "tb=False\n",
      "k=False\n",
      "g=True\n"
     ]
    }
   ],
   "source": [
    "if tb>=5 and tb<=6: print(\"tb=True\\nk=False\\ng=False\")\n",
    "if tb>6 and tb<8: print(\"tb=False\\nk=True\\ng=False\")\n",
    "if tb>=8: print(\"tb=False\\nk=False\\ng=True\")"
   ]
  },
  {
   "cell_type": "code",
   "execution_count": null,
   "id": "81980e79",
   "metadata": {},
   "outputs": [],
   "source": []
  }
 ],
 "metadata": {
  "kernelspec": {
   "display_name": "Python 3 (ipykernel)",
   "language": "python",
   "name": "python3"
  },
  "language_info": {
   "codemirror_mode": {
    "name": "ipython",
    "version": 3
   },
   "file_extension": ".py",
   "mimetype": "text/x-python",
   "name": "python",
   "nbconvert_exporter": "python",
   "pygments_lexer": "ipython3",
   "version": "3.9.12"
  }
 },
 "nbformat": 4,
 "nbformat_minor": 5
}
